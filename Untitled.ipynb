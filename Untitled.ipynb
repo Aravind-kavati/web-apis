{
 "cells": [
  {
   "cell_type": "markdown",
   "id": "523fabdc-f1f2-409b-96ff-21e2eeef9ed2",
   "metadata": {},
   "source": [
    "Q1. What is an API? Give an example, where an API is used in real life.\n"
   ]
  },
  {
   "cell_type": "markdown",
   "id": "65992393-dc2d-470c-bf65-43f75fbf2930",
   "metadata": {},
   "source": [
    "API helps to communicate between two heterogenous or homogenous system.Gpay and bank server"
   ]
  },
  {
   "cell_type": "markdown",
   "id": "c0a1f795-9fb8-4d98-8502-d4abcaa6947e",
   "metadata": {},
   "source": [
    "Q2. Give advantages and disadvantages of using API."
   ]
  },
  {
   "cell_type": "code",
   "execution_count": 1,
   "id": "afc6fc50-8266-4a43-b2e0-751c09d6621a",
   "metadata": {},
   "outputs": [],
   "source": [
    "##Efficiency and productivity(data can be received by writing jut few lines of code)\n",
    "##Acess to exteranl services\n",
    "##Flexibliliy and scalability\n",
    "##disadvantages\n",
    "##privacy and security\n",
    "##dependancy on third party websites\n",
    "##latency"
   ]
  },
  {
   "cell_type": "markdown",
   "id": "7cc686f5-44bf-4d5a-b303-4c8dbef37b86",
   "metadata": {},
   "source": [
    "What is a Web API? Differentiate between API and Web API."
   ]
  },
  {
   "cell_type": "code",
   "execution_count": 2,
   "id": "3552a7d0-303e-4995-9f40-b572650ba065",
   "metadata": {},
   "outputs": [],
   "source": [
    "## WEb API makescommunication between software usinh http protocols\n",
    "## API uses STMP,HTTP,TCP"
   ]
  },
  {
   "cell_type": "markdown",
   "id": "993c9ab3-2bb6-44bf-85b6-0fea7f9b0f60",
   "metadata": {},
   "source": [
    "Explain REST and SOAP Architecture. Mention shortcomings of SOAP."
   ]
  },
  {
   "cell_type": "code",
   "execution_count": 3,
   "id": "1cfb1ccf-ad77-4f45-a03d-bfd330760962",
   "metadata": {},
   "outputs": [],
   "source": [
    "##REST (Representational State Transfer) and SOAP (Simple Object Access Protocol) \n",
    "## Rest ues http (put,get,delete,post)R\n",
    "## Scalable,Flexible\n",
    "## light weight\n",
    "## Soap Architecture\n",
    "##  sents XML based message using http and stmp protocols\n",
    "## Shortcomings \n",
    "## diificult to read\n",
    "## takes a lot of time to load the data\n",
    "## performance slower compared with rest\n"
   ]
  },
  {
   "cell_type": "markdown",
   "id": "762404a6-3346-4fee-b960-44e594bfa897",
   "metadata": {},
   "source": [
    "Q5. Differentiate between REST and SOAP."
   ]
  },
  {
   "cell_type": "markdown",
   "id": "6b28115e-3c9b-4ab2-adaf-f1b3cbdfa383",
   "metadata": {},
   "source": [
    "rest is simple,lightweight and scalable and uses http protocols"
   ]
  }
 ],
 "metadata": {
  "kernelspec": {
   "display_name": "Python 3 (ipykernel)",
   "language": "python",
   "name": "python3"
  },
  "language_info": {
   "codemirror_mode": {
    "name": "ipython",
    "version": 3
   },
   "file_extension": ".py",
   "mimetype": "text/x-python",
   "name": "python",
   "nbconvert_exporter": "python",
   "pygments_lexer": "ipython3",
   "version": "3.10.8"
  }
 },
 "nbformat": 4,
 "nbformat_minor": 5
}
